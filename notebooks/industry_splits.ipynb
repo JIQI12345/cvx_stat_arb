{
 "cells": [
  {
   "cell_type": "code",
   "execution_count": 1,
   "metadata": {},
   "outputs": [],
   "source": [
    "import numpy as np\n",
    "import pandas as pd\n",
    "import cvxpy as cp\n",
    "import matplotlib.pyplot as plt\n",
    "from tqdm import trange\n",
    "import multiprocessing as mp\n",
    "import seaborn as sns\n",
    "\n",
    "from cvx.stat_arb.ccp import *\n",
    "from cvx.stat_arb.utils import *\n",
    "from cvx.stat_arb.backtest import *\n",
    "\n",
    "sns.set()\n",
    "\n",
    "%load_ext autoreload\n",
    "%autoreload 2"
   ]
  },
  {
   "cell_type": "code",
   "execution_count": 2,
   "metadata": {},
   "outputs": [],
   "source": [
    "naics_to_sector = {\n",
    "    '11': 'Agriculture, Forestry, Fishing and Hunting',\n",
    "    '21': 'Mining, Quarrying, and Oil and Gas Extraction',\n",
    "    '22': 'Utilities', \n",
    "    '23': 'Construction',\n",
    "    '31': 'Manufacturing',\n",
    "    '32': 'Manufacturing',\n",
    "    '33': 'Manufacturing',\n",
    "    '42': 'Wholesale Trade',\n",
    "    '44': 'Retail Trade',\n",
    "    '45': 'Retail Trade',\n",
    "    '48': 'Transportation and Warehousing',\n",
    "    '49': 'Transportation and Warehousing',\n",
    "    '51': 'Information',\n",
    "    '52': 'Finance and Insurance',\n",
    "    '53': 'Real Estate and Rental and Leasing',\n",
    "    '54': 'Professional, Scientific, and Technical Services',\n",
    "    '55': 'Management of Companies and Enterprises',\n",
    "    '56': 'Administrative and Support and Waste Management and Remediation Services',\n",
    "    '61': 'Educational Services',\n",
    "    '62': 'Health Care and Social Assistance',\n",
    "    '71': 'Arts, Entertainment, and Recreation',\n",
    "    '72': 'Accommodation and Food Services',\n",
    "    '81': 'Other Services (except Public Administration)',\n",
    "    '92': 'Public Administration'\n",
    "}"
   ]
  },
  {
   "cell_type": "code",
   "execution_count": 3,
   "metadata": {},
   "outputs": [],
   "source": [
    "data = pd.read_csv(\"/Users/kasper/Documents/Stanford/Research/Data/CRSP/all_crsp_10_to_23.csv\")\n",
    "data.index = pd.to_datetime(data.date, format=\"%Y-%m-%d\")\n",
    "data = data.drop(columns=['date'])\n",
    "\n",
    "prices = pd.pivot_table(data, values='PRC', index='date', columns='PERMCO', fill_value=None)\n",
    "shares = pd.pivot_table(data, values='SHROUT', index='date', columns='PERMCO', fill_value=None)\n",
    "market_cap = prices*shares\n",
    "\n",
    "# Remove microcaps\n",
    "# prices[market_cap < 10*1e6] = np.nan\n",
    "# prices[market_cap > 0.5*1e9] = np.nan\n",
    "prices = prices.dropna(axis=1, how='all', inplace=False)\n",
    "# prices = prices.drop([540], axis=1) # Let's not trade BRK\n",
    "\n",
    "prices_train = prices.loc[\"2022-01-01\":\"2022-07-31\"].iloc[:,:]\n",
    "prices_val = prices.loc[\"2022-08-01\":\"2022-10-31\"].iloc[:,:]\n",
    "prices_test = prices.loc[\"2022-10-01\":\"2022-12-31\"].iloc[:,:]\n",
    "\n",
    "prices_train_val = pd.concat([prices_train, prices_val]) # For later use"
   ]
  },
  {
   "cell_type": "code",
   "execution_count": 4,
   "metadata": {},
   "outputs": [
    {
     "name": "stdout",
     "output_type": "stream",
     "text": [
      "Sector 10 does not exist...\n",
      "Sector 67 does not exist...\n",
      "Sector 99 does not exist...\n",
      "Sector 99 does not exist...\n",
      "Sector 99 does not exist...\n",
      "Sector 99 does not exist...\n",
      "Sector 99 does not exist...\n",
      "Sector 99 does not exist...\n",
      "Sector 67 does not exist...\n",
      "Sector 73 does not exist...\n"
     ]
    }
   ],
   "source": [
    "# data = pd.read_csv(\"/Users/kasper/Documents/Stanford/Research/Data/SP500/asset_data_00_to_23_w_industries.csv\")\n",
    "# data.index = pd.to_datetime(data.date, format=\"%Y-%m-%d\")\n",
    "# data = data.drop(columns=['date'])\n",
    "\n",
    "# prices = pd.pivot_table(data, values='PRC', index='date', columns='PERMNO', fill_value=None)\n",
    "\n",
    "# prices_train = prices.loc[\"2022-01-01\":\"2022-07-31\"].iloc[:,:]\n",
    "# prices_val = prices.loc[\"2022-08-01\":\"2022-10-31\"].iloc[:,:]\n",
    "# prices_test = prices.loc[\"2022-10-01\":\"2022-12-31\"].iloc[:,:]\n",
    "\n",
    "# prices_train_val = pd.concat([prices_train, prices_val]) # For later use\n",
    "\n",
    "NAICS = pd.pivot_table(data, values='NAICS', index='date', columns='PERMCO',\\\n",
    "     fill_value=None)\n",
    "NAICS = NAICS.fillna(method='ffill')\n",
    "NAICS = NAICS.fillna(method='bfill')\n",
    "NAICS = NAICS.applymap(lambda x: str(x)[:2]).astype(int)\n",
    "\n",
    "# Get dict of sectors\n",
    "asset_to_sector = {}\n",
    "sector_to_asset = {}\n",
    "assets_visited = []\n",
    "for asset in NAICS.columns:\n",
    "    if asset in assets_visited:\n",
    "        print(\"fdsj\")\n",
    "    assets_visited.append(asset)\n",
    "    if asset in prices.columns: # TODO: They have different columns...\n",
    "        sectors_temp = []\n",
    "        for n in NAICS[asset].unique():\n",
    "            try:\n",
    "                sector = naics_to_sector[str(n)]\n",
    "\n",
    "                if sector not in sector_to_asset:\n",
    "                    sector_to_asset[sector] = [asset]\n",
    "                else:\n",
    "                    if asset not in sector_to_asset[sector]:\n",
    "                        sector_to_asset[sector].append(asset)\n",
    "                sectors_temp.append(sector)\n",
    "\n",
    "            except KeyError:\n",
    "                print(\"Sector \" + str(n) + \" does not exist...\")\n",
    "        asset_to_sector[asset] = sectors_temp"
   ]
  },
  {
   "cell_type": "code",
   "execution_count": 15,
   "metadata": {},
   "outputs": [
    {
     "data": {
      "text/plain": [
       "(144, 7077)"
      ]
     },
     "execution_count": 15,
     "metadata": {},
     "output_type": "execute_result"
    }
   ],
   "source": [
    "all_prices_train[0].dropna(axis=1, how='all').shape"
   ]
  },
  {
   "cell_type": "code",
   "execution_count": 18,
   "metadata": {},
   "outputs": [
    {
     "name": "stderr",
     "output_type": "stream",
     "text": [
      " 10%|█         | 10/100 [00:04<00:43,  2.06it/s]\n"
     ]
    },
    {
     "ename": "IndexError",
     "evalue": "list index out of range",
     "output_type": "error",
     "traceback": [
      "\u001b[0;31m---------------------------------------------------------------------------\u001b[0m",
      "\u001b[0;31mIndexError\u001b[0m                                Traceback (most recent call last)",
      "Cell \u001b[0;32mIn[18], line 26\u001b[0m\n\u001b[1;32m     20\u001b[0m all_mu_init \u001b[38;5;241m=\u001b[39m [\u001b[38;5;28;01mNone\u001b[39;00m]\u001b[38;5;241m*\u001b[39mn_candidates\n\u001b[1;32m     23\u001b[0m \u001b[38;5;28;01mfor\u001b[39;00m i \u001b[38;5;129;01min\u001b[39;00m trange(\u001b[38;5;241m100\u001b[39m):\n\u001b[1;32m     24\u001b[0m      stat_arb \u001b[38;5;241m=\u001b[39m construct_stat_arb(all_prices_train[\u001b[38;5;241m0\u001b[39m]\u001b[38;5;241m.\u001b[39miloc[:,:\u001b[38;5;241m500\u001b[39m],\\\n\u001b[1;32m     25\u001b[0m                all_P_max[\u001b[38;5;241m0\u001b[39m], all_spread_max[\u001b[38;5;241m0\u001b[39m], all_zero_inds[\u001b[38;5;241m0\u001b[39m], all_i[\u001b[38;5;241m0\u001b[39m], all_n_candidates[\u001b[38;5;241m0\u001b[39m], all_p_init[\u001b[38;5;241m0\u001b[39m], all_s_init[\u001b[38;5;241m0\u001b[39m],\\\n\u001b[0;32m---> 26\u001b[0m                      all_mu_init[\u001b[38;5;241m0\u001b[39m], \u001b[43mall_seeds\u001b[49m\u001b[43m[\u001b[49m\u001b[43mi\u001b[49m\u001b[43m]\u001b[49m)\n",
      "\u001b[0;31mIndexError\u001b[0m: list index out of range"
     ]
    }
   ],
   "source": [
    "from cvx.stat_arb.ccp import *\n",
    "\n",
    "np.random.seed(1)\n",
    "\n",
    "P_max = 10*1e6\n",
    "spread_max=1e6\n",
    "n_candidates = 100\n",
    "\n",
    "all_seeds = list(np.random.choice(range(10*n_candidates),\\\n",
    "     n_candidates, replace=False))\n",
    "\n",
    "all_prices_train = [prices_train]*n_candidates\n",
    "all_P_max = [P_max]*n_candidates\n",
    "all_spread_max = [spread_max]*n_candidates\n",
    "all_zero_inds = [None]*n_candidates\n",
    "all_i = [i for i in range(n_candidates)]\n",
    "all_n_candidates = [None]*n_candidates\n",
    "all_p_init = [None]*n_candidates\n",
    "all_s_init = [None]*n_candidates\n",
    "all_mu_init = [None]*n_candidates\n",
    "\n",
    "\n",
    "for i in trange(n_candidates):\n",
    "     stat_arb = construct_stat_arb(all_prices_train[0].iloc[:,:500],\\\n",
    "               all_P_max[0], all_spread_max[0], all_zero_inds[0], all_i[0], all_n_candidates[0], all_p_init[0], all_s_init[0],\\\n",
    "                     all_mu_init[0], all_seeds[i])"
   ]
  },
  {
   "cell_type": "code",
   "execution_count": 5,
   "metadata": {},
   "outputs": [
    {
     "name": "stderr",
     "output_type": "stream",
     "text": [
      "  0%|          | 0/20 [00:00<?, ?it/s]"
     ]
    },
    {
     "name": "stdout",
     "output_type": "stream",
     "text": [
      "0% "
     ]
    },
    {
     "name": "stderr",
     "output_type": "stream",
     "text": [
      "  5%|▌         | 1/20 [00:10<03:15, 10.29s/it]"
     ]
    },
    {
     "name": "stdout",
     "output_type": "stream",
     "text": [
      "0% Solver failed...\n"
     ]
    },
    {
     "name": "stderr",
     "output_type": "stream",
     "text": [
      " 10%|█         | 2/20 [00:33<05:25, 18.07s/it]"
     ]
    },
    {
     "name": "stdout",
     "output_type": "stream",
     "text": [
      "0% "
     ]
    },
    {
     "name": "stderr",
     "output_type": "stream",
     "text": [
      " 15%|█▌        | 3/20 [00:38<03:20, 11.80s/it]"
     ]
    },
    {
     "name": "stdout",
     "output_type": "stream",
     "text": [
      "0% "
     ]
    },
    {
     "name": "stderr",
     "output_type": "stream",
     "text": [
      " 20%|██        | 4/20 [00:42<02:20,  8.81s/it]"
     ]
    },
    {
     "name": "stdout",
     "output_type": "stream",
     "text": [
      "0% "
     ]
    },
    {
     "name": "stderr",
     "output_type": "stream",
     "text": [
      " 25%|██▌       | 5/20 [00:48<01:56,  7.78s/it]"
     ]
    },
    {
     "name": "stdout",
     "output_type": "stream",
     "text": [
      "0% "
     ]
    },
    {
     "name": "stderr",
     "output_type": "stream",
     "text": [
      " 30%|███       | 6/20 [00:50<01:21,  5.82s/it]"
     ]
    },
    {
     "name": "stdout",
     "output_type": "stream",
     "text": [
      "0% "
     ]
    },
    {
     "name": "stderr",
     "output_type": "stream",
     "text": [
      " 35%|███▌      | 7/20 [00:55<01:11,  5.47s/it]"
     ]
    },
    {
     "name": "stdout",
     "output_type": "stream",
     "text": [
      "0% "
     ]
    },
    {
     "name": "stderr",
     "output_type": "stream",
     "text": [
      " 40%|████      | 8/20 [01:02<01:12,  6.03s/it]"
     ]
    },
    {
     "name": "stdout",
     "output_type": "stream",
     "text": [
      "0% "
     ]
    },
    {
     "name": "stderr",
     "output_type": "stream",
     "text": [
      " 45%|████▌     | 9/20 [01:05<00:57,  5.23s/it]"
     ]
    },
    {
     "name": "stdout",
     "output_type": "stream",
     "text": [
      "0% "
     ]
    },
    {
     "name": "stderr",
     "output_type": "stream",
     "text": [
      " 50%|█████     | 10/20 [01:08<00:44,  4.43s/it]"
     ]
    },
    {
     "name": "stdout",
     "output_type": "stream",
     "text": [
      "0% "
     ]
    },
    {
     "name": "stderr",
     "output_type": "stream",
     "text": [
      " 55%|█████▌    | 11/20 [01:20<01:00,  6.68s/it]"
     ]
    },
    {
     "name": "stdout",
     "output_type": "stream",
     "text": [
      "0% "
     ]
    },
    {
     "name": "stderr",
     "output_type": "stream",
     "text": [
      " 60%|██████    | 12/20 [01:23<00:45,  5.70s/it]"
     ]
    },
    {
     "name": "stdout",
     "output_type": "stream",
     "text": [
      "0% "
     ]
    },
    {
     "name": "stderr",
     "output_type": "stream",
     "text": [
      " 65%|██████▌   | 13/20 [01:28<00:37,  5.33s/it]"
     ]
    },
    {
     "name": "stdout",
     "output_type": "stream",
     "text": [
      "0% "
     ]
    },
    {
     "name": "stderr",
     "output_type": "stream",
     "text": [
      " 70%|███████   | 14/20 [01:33<00:31,  5.29s/it]"
     ]
    },
    {
     "name": "stdout",
     "output_type": "stream",
     "text": [
      "0% "
     ]
    },
    {
     "name": "stderr",
     "output_type": "stream",
     "text": [
      " 75%|███████▌  | 15/20 [01:38<00:26,  5.38s/it]"
     ]
    },
    {
     "name": "stdout",
     "output_type": "stream",
     "text": [
      "0% "
     ]
    },
    {
     "name": "stderr",
     "output_type": "stream",
     "text": [
      " 80%|████████  | 16/20 [01:45<00:22,  5.72s/it]"
     ]
    },
    {
     "name": "stdout",
     "output_type": "stream",
     "text": [
      "0% "
     ]
    },
    {
     "name": "stderr",
     "output_type": "stream",
     "text": [
      " 85%|████████▌ | 17/20 [01:50<00:16,  5.38s/it]"
     ]
    },
    {
     "name": "stdout",
     "output_type": "stream",
     "text": [
      "0% "
     ]
    },
    {
     "name": "stderr",
     "output_type": "stream",
     "text": [
      " 90%|█████████ | 18/20 [01:53<00:09,  4.74s/it]"
     ]
    },
    {
     "name": "stdout",
     "output_type": "stream",
     "text": [
      "0% "
     ]
    },
    {
     "name": "stderr",
     "output_type": "stream",
     "text": [
      " 95%|█████████▌| 19/20 [01:55<00:04,  4.04s/it]"
     ]
    },
    {
     "name": "stdout",
     "output_type": "stream",
     "text": [
      "0% "
     ]
    },
    {
     "name": "stderr",
     "output_type": "stream",
     "text": [
      "100%|██████████| 20/20 [01:57<00:00,  5.88s/it]\n"
     ]
    }
   ],
   "source": [
    "from cvx.stat_arb.ccp import *\n",
    "\n",
    "np.random.seed(1)\n",
    "\n",
    "P_max = 10\n",
    "n_candidates = 10\n",
    "\n",
    "all_seeds = list(np.random.choice(range(10*n_candidates),\\\n",
    "     n_candidates, replace=False))\n",
    "\n",
    "all_prices_train = [prices_train]*n_candidates\n",
    "all_P_max = [P_max]*n_candidates\n",
    "all_zero_inds = [None]*n_candidates\n",
    "all_i = [i for i in range(n_candidates)]\n",
    "all_n_candidates = [n_candidates]*n_candidates\n",
    "all_p_init = [None]*n_candidates\n",
    "all_s_init = [None]*n_candidates\n",
    "all_mu_init = [None]*n_candidates\n",
    "\n",
    "sector_stat_arbs = {}\n",
    "for i in trange(len(sector_to_asset)):\n",
    "    sector = list(sector_to_asset.keys())[i]\n",
    "    assets = sector_to_asset[sector]\n",
    "    prices_sector = prices_train[assets]\n",
    "\n",
    "    # Look for stat arbs if multiple assets in sector\n",
    "    # TODO: should be len(assets) > 1?\n",
    "    if len(prices_sector) > 1:\n",
    "        all_prices_train = [prices_sector]*n_candidates\n",
    "        pool = mp.Pool()\n",
    "        all_stat_arbs = pool.starmap(construct_stat_arb, zip(all_prices_train,\\\n",
    "            all_P_max, all_zero_inds, all_i, all_n_candidates,\\\n",
    "                all_p_init, all_s_init, all_mu_init, all_seeds))\n",
    "        pool.close()\n",
    "        pool.join()\n",
    "        sector_stat_arbs[sector] = all_stat_arbs\n",
    "    "
   ]
  },
  {
   "cell_type": "code",
   "execution_count": 16,
   "metadata": {},
   "outputs": [],
   "source": [
    "prices_train_new = prices_train.dropna(axis=1)"
   ]
  },
  {
   "cell_type": "code",
   "execution_count": 18,
   "metadata": {},
   "outputs": [
    {
     "data": {
      "text/plain": [
       "0"
      ]
     },
     "execution_count": 18,
     "metadata": {},
     "output_type": "execute_result"
    }
   ],
   "source": [
    "prices_train_new.isna().sum().sum()"
   ]
  },
  {
   "cell_type": "code",
   "execution_count": 24,
   "metadata": {},
   "outputs": [
    {
     "data": {
      "text/plain": [
       "(63, 6560)"
      ]
     },
     "execution_count": 24,
     "metadata": {},
     "output_type": "execute_result"
    }
   ],
   "source": [
    "prices_test[prices_train_new.columns].shape"
   ]
  },
  {
   "cell_type": "markdown",
   "metadata": {},
   "source": [
    "# Trading backetests"
   ]
  },
  {
   "cell_type": "code",
   "execution_count": 13,
   "metadata": {},
   "outputs": [
    {
     "name": "stdout",
     "output_type": "stream",
     "text": [
      "[[ 4.62512512e-01]\n",
      " [ 2.21963497e-01]\n",
      " [ 1.07499464e-01]\n",
      " [ 2.25940469e-01]\n",
      " [ 1.36102996e-01]\n",
      " [-9.60830495e-02]\n",
      " [-9.25097387e-02]\n",
      " [-1.65547222e-01]\n",
      " [-2.97852361e-01]\n",
      " [-1.98695592e-01]\n",
      " [-2.72360827e-01]\n",
      " [-2.11383931e-01]\n",
      " [-5.21742549e-02]\n",
      " [-1.41693221e-01]\n",
      " [-1.95385071e-01]\n",
      " [-1.79176372e-01]\n",
      " [-2.02060067e-01]\n",
      " [-3.37225140e-01]\n",
      " [-2.83579882e-01]\n",
      " [-1.90337038e-01]\n",
      " [ 1.33283969e+00]\n",
      " [-2.32662221e-01]\n",
      " [-3.94514147e-01]\n",
      " [-1.83235628e-01]\n",
      " [-1.34987795e-01]\n",
      " [-2.24431487e-01]\n",
      " [-2.36278437e-01]\n",
      " [-4.03103846e-01]\n",
      " [-2.76807667e-01]\n",
      " [-4.57211354e-01]\n",
      " [-5.07166364e-01]\n",
      " [-6.55880232e-01]\n",
      " [-6.67160308e-01]\n",
      " [-5.81387301e-01]\n",
      " [-1.30757857e-01]\n",
      " [-2.25502434e-01]\n",
      " [ 6.37596379e-03]\n",
      " [-1.65194809e-01]\n",
      " [ 6.51929723e-02]\n",
      " [-1.44346604e-01]\n",
      " [-3.76150781e-01]\n",
      " [-4.19268721e-01]\n",
      " [-3.81323837e-01]\n",
      " [-1.36014287e-01]\n",
      " [-1.80470512e-01]\n",
      " [-1.42776668e-01]\n",
      " [-1.04587172e-03]\n",
      " [-3.84718542e-02]\n",
      " [-5.39955510e-02]\n",
      " [ 5.84387281e-02]\n",
      " [ 1.23015927e-01]\n",
      " [ 1.53494616e-01]\n",
      " [ 1.12117712e-01]\n",
      " [ 1.30356174e-01]\n",
      " [ 1.38284823e-01]\n",
      " [ 4.08523483e-01]\n",
      " [ 4.52813530e-01]\n",
      " [ 5.50825253e-01]\n",
      " [ 6.65818464e-01]\n",
      " [ 7.13506938e-01]\n",
      " [ 9.14679628e-01]\n",
      " [ 9.36133107e-01]\n",
      " [ 9.08347837e-01]\n",
      " [ 1.21840917e+00]\n",
      " [ 1.33283969e+00]\n",
      " [ 1.27303249e+00]\n",
      " [ 1.30021915e+00]\n",
      " [ 1.10144149e+00]\n",
      " [ 8.21798224e-01]\n",
      " [ 9.77697827e-01]\n",
      " [ 8.84153856e-01]\n",
      " [ 9.73862843e-01]\n",
      " [ 1.05317071e+00]\n",
      " [ 1.01437496e+00]\n",
      " [ 8.98725958e-01]\n",
      " [ 8.01463013e-01]\n",
      " [ 1.32645877e+00]\n",
      " [ 1.32461683e+00]\n",
      " [-6.67160308e-01]\n",
      " [ 1.33283969e+00]\n",
      " [ 1.22487338e+00]\n",
      " [ 1.27810787e+00]\n",
      " [-6.67160308e-01]\n",
      " [ 1.22250861e+00]\n",
      " [-6.67160308e-01]\n",
      " [ 1.16062439e+00]\n",
      " [ 9.03069160e-01]\n",
      " [ 8.35982985e-01]\n",
      " [ 7.65842689e-01]\n",
      " [ 7.19515075e-01]\n",
      " [ 8.34828433e-01]\n",
      " [ 8.48013453e-01]\n",
      " [ 8.89303176e-01]\n",
      " [ 8.61067087e-01]\n",
      " [ 1.14564888e+00]\n",
      " [ 1.20633210e+00]\n",
      " [ 1.19555339e+00]\n",
      " [ 1.22005258e+00]\n",
      " [ 1.31343735e+00]\n",
      " [ 1.33283969e+00]\n",
      " [ 1.28225017e+00]\n",
      " [ 1.24954801e+00]\n",
      " [ 1.20356807e+00]\n",
      " [ 1.22319027e+00]\n",
      " [ 1.33283969e+00]\n",
      " [ 1.26567863e+00]\n",
      " [ 1.33127441e+00]\n",
      " [ 1.19468778e+00]\n",
      " [ 1.26300682e+00]\n",
      " [ 1.20061400e+00]\n",
      " [ 1.20781782e+00]\n",
      " [ 1.13659106e+00]\n",
      " [ 1.02557132e+00]\n",
      " [ 1.02039955e+00]\n",
      " [-6.37619429e-01]\n",
      " [ 1.33283969e+00]\n",
      " [ 1.27476318e+00]\n",
      " [-6.67160308e-01]\n",
      " [ 1.22104498e+00]\n",
      " [-2.64487322e-01]\n",
      " [-4.49964324e-01]\n",
      " [-5.90338639e-01]\n",
      " [ 1.33283969e+00]\n",
      " [-6.67160308e-01]\n",
      " [-6.57312558e-01]\n",
      " [-5.65216639e-01]\n",
      " [-5.47248463e-01]\n",
      " [-5.35597119e-01]\n",
      " [-6.08699435e-01]\n",
      " [-6.10148587e-01]\n",
      " [ 1.33283969e+00]\n",
      " [-6.36921867e-01]\n",
      " [-6.59622350e-01]\n",
      " [-6.09865550e-01]\n",
      " [-5.83973147e-01]\n",
      " [-5.88910406e-01]\n",
      " [-6.67160308e-01]\n",
      " [-5.26813445e-01]\n",
      " [-6.10118862e-01]\n",
      " [-5.42574638e-01]\n",
      " [-5.69874419e-01]\n",
      " [-5.55119871e-01]\n",
      " [ 1.33283969e+00]\n",
      " [-5.64912838e-01]\n",
      " [-5.24749300e-01]\n",
      " [-1.13099959e-01]\n",
      " [-1.07392296e-01]\n",
      " [-3.50347716e-02]\n",
      " [-5.81451947e-02]\n",
      " [-2.27089259e-02]\n",
      " [ 6.99485151e-02]\n",
      " [ 1.68481379e-01]\n",
      " [ 9.65980722e-02]\n",
      " [ 1.82930179e-01]\n",
      " [ 9.84749293e-02]\n",
      " [ 1.32063207e-01]\n",
      " [ 2.28427742e-01]\n",
      " [            nan]\n",
      " [            nan]\n",
      " [            nan]\n",
      " [            nan]\n",
      " [            nan]\n",
      " [            nan]\n",
      " [            nan]\n",
      " [            nan]\n",
      " [            nan]\n",
      " [            nan]\n",
      " [            nan]\n",
      " [            nan]\n",
      " [            nan]\n",
      " [            nan]\n",
      " [            nan]\n",
      " [            nan]\n",
      " [            nan]\n",
      " [            nan]\n",
      " [            nan]\n",
      " [            nan]\n",
      " [            nan]\n",
      " [            nan]\n",
      " [            nan]\n",
      " [            nan]\n",
      " [            nan]\n",
      " [            nan]\n",
      " [            nan]\n",
      " [            nan]\n",
      " [            nan]\n",
      " [            nan]\n",
      " [            nan]\n",
      " [            nan]\n",
      " [            nan]\n",
      " [            nan]\n",
      " [            nan]\n",
      " [            nan]\n",
      " [            nan]\n",
      " [            nan]\n",
      " [            nan]\n",
      " [            nan]\n",
      " [            nan]\n",
      " [            nan]\n",
      " [            nan]\n",
      " [            nan]\n",
      " [            nan]\n",
      " [            nan]\n",
      " [            nan]\n",
      " [            nan]\n",
      " [            nan]\n",
      " [            nan]\n",
      " [            nan]\n",
      " [            nan]]\n"
     ]
    },
    {
     "ename": "ValueError",
     "evalue": "Parameter value must be real.",
     "output_type": "error",
     "traceback": [
      "\u001b[0;31m---------------------------------------------------------------------------\u001b[0m",
      "\u001b[0;31mValueError\u001b[0m                                Traceback (most recent call last)",
      "Cell \u001b[0;32mIn[13], line 8\u001b[0m\n\u001b[1;32m      4\u001b[0m \u001b[38;5;28;01mfor\u001b[39;00m sector \u001b[38;5;129;01min\u001b[39;00m sector_stat_arbs\u001b[38;5;241m.\u001b[39mkeys():\n\u001b[1;32m      5\u001b[0m     \u001b[38;5;66;03m# Get stat arbs\u001b[39;00m\n\u001b[1;32m      6\u001b[0m     all_stat_arbs \u001b[38;5;241m=\u001b[39m sector_stat_arbs[sector]\n\u001b[1;32m      7\u001b[0m     traded_stat_arbs, non_traded_stat_arbs, total_profit \\\n\u001b[0;32m----> 8\u001b[0m         \u001b[38;5;241m=\u001b[39m \u001b[43mfilter_stat_arbs\u001b[49m\u001b[43m(\u001b[49m\u001b[43mall_stat_arbs\u001b[49m\u001b[43m,\u001b[49m\u001b[43m \u001b[49m\u001b[43mprices_train\u001b[49m\u001b[43m,\u001b[49m\u001b[43m \u001b[49m\u001b[43mprices_val\u001b[49m\u001b[43m,\u001b[49m\u001b[43m \u001b[49m\u001b[43mprices_test\u001b[49m\u001b[43m,\u001b[49m\u001b[43m\\\u001b[49m\n\u001b[1;32m      9\u001b[0m \u001b[43m        \u001b[49m\u001b[43mcutoff\u001b[49m\u001b[38;5;241;43m=\u001b[39;49m\u001b[43mcutoff\u001b[49m\u001b[43m,\u001b[49m\u001b[43m \u001b[49m\u001b[43mSR_cutoff\u001b[49m\u001b[38;5;241;43m=\u001b[39;49m\u001b[38;5;241;43m3\u001b[39;49m\u001b[43m)\u001b[49m\n\u001b[1;32m     11\u001b[0m     \u001b[38;5;28;01mif\u001b[39;00m \u001b[38;5;28mlen\u001b[39m(traded_stat_arbs) \u001b[38;5;241m>\u001b[39m \u001b[38;5;241m0\u001b[39m:\n\u001b[1;32m     12\u001b[0m         \u001b[38;5;66;03m# Create portfolios\u001b[39;00m\n\u001b[1;32m     13\u001b[0m         pos0 \u001b[38;5;241m=\u001b[39m traded_stat_arbs[\u001b[38;5;241m0\u001b[39m]\u001b[38;5;241m.\u001b[39mget_positions(prices_test, cutoff\u001b[38;5;241m=\u001b[39mcutoff,\\\n\u001b[1;32m     14\u001b[0m             exit_last\u001b[38;5;241m=\u001b[39m\u001b[38;5;28;01mTrue\u001b[39;00m)\n",
      "File \u001b[0;32m~/Documents/Stanford/Research/My papers/stat_arbs/cvx_ccv_stat_arb/cvx/stat_arb/backtest.py:37\u001b[0m, in \u001b[0;36mfilter_stat_arbs\u001b[0;34m(all_stat_arbs, prices_train, prices_val, prices_test, cutoff, SR_cutoff)\u001b[0m\n\u001b[1;32m     35\u001b[0m P \u001b[39m=\u001b[39m prices_train_val[stat_arb\u001b[39m.\u001b[39massets\u001b[39m.\u001b[39mkeys()]\n\u001b[1;32m     36\u001b[0m \u001b[39mprint\u001b[39m(p_init)\n\u001b[0;32m---> 37\u001b[0m stat_arb_refit \u001b[39m=\u001b[39m construct_stat_arb(P, P_max\u001b[39m=\u001b[39;49m\u001b[39mNone\u001b[39;49;00m,\\\n\u001b[1;32m     38\u001b[0m         p_init\u001b[39m=\u001b[39;49mp_init, s_init\u001b[39m=\u001b[39;49mstat_arb\u001b[39m.\u001b[39;49ms, mu_init\u001b[39m=\u001b[39;49mstat_arb\u001b[39m.\u001b[39;49mmu)\n\u001b[1;32m     40\u001b[0m \u001b[39m# Don't enter position if it goes out of bounds on first day\u001b[39;00m\n\u001b[1;32m     41\u001b[0m \u001b[39mif\u001b[39;00m (stat_arb\u001b[39m.\u001b[39mevaluate(prices_train)\u001b[39m-\u001b[39mstat_arb\u001b[39m.\u001b[39mmu)\u001b[39m.\u001b[39mabs()[\u001b[39m0\u001b[39m]\\\n\u001b[1;32m     42\u001b[0m     \u001b[39m>\u001b[39m\u001b[39m=\u001b[39m cutoff: \n",
      "File \u001b[0;32m~/Documents/Stanford/Research/My papers/stat_arbs/cvx_ccv_stat_arb/cvx/stat_arb/ccp.py:178\u001b[0m, in \u001b[0;36mconstruct_stat_arb\u001b[0;34m(prices, P_max, zero_inds, i, n_candidates, p_init, s_init, mu_init, seed)\u001b[0m\n\u001b[1;32m    173\u001b[0m prices \u001b[39m=\u001b[39m prices \u001b[39m/\u001b[39m (P_bar) \u001b[39m# TODO: Check; added this and SR went down...\u001b[39;00m\n\u001b[1;32m    174\u001b[0m \u001b[39m# Remove microcaps\u001b[39;00m\n\u001b[1;32m    175\u001b[0m \n\u001b[1;32m    176\u001b[0m \n\u001b[1;32m    177\u001b[0m \u001b[39m# TODO: p not used; remove?\u001b[39;00m\n\u001b[0;32m--> 178\u001b[0m p, s, mu, assets \u001b[39m=\u001b[39m _StatArbFitter()\u001b[39m.\u001b[39;49mfit(prices\u001b[39m=\u001b[39;49mprices, P_max\u001b[39m=\u001b[39;49mP_max,\\\n\u001b[1;32m    179\u001b[0m             zero_inds\u001b[39m=\u001b[39;49mzero_inds, i\u001b[39m=\u001b[39;49mi, n_candidates\u001b[39m=\u001b[39;49mn_candidates,\\\n\u001b[1;32m    180\u001b[0m                 p_init\u001b[39m=\u001b[39;49mp_init, s_init\u001b[39m=\u001b[39;49ms_init, mu_init\u001b[39m=\u001b[39;49mmu_init)\n\u001b[1;32m    182\u001b[0m \u001b[39m# Scale back\u001b[39;00m\n\u001b[1;32m    183\u001b[0m \u001b[39m# print(1, len(assets))\u001b[39;00m\n\u001b[1;32m    184\u001b[0m \u001b[39m# print(2, s.shape)\u001b[39;00m\n\u001b[1;32m    185\u001b[0m \u001b[39m# print(3, P_bar[assets].shape)\u001b[39;00m\n\u001b[1;32m    186\u001b[0m \u001b[39m# print(4, assets)\u001b[39;00m\n\u001b[1;32m    187\u001b[0m \u001b[39m# print(5, P_bar[assets])\u001b[39;00m\n\u001b[1;32m    189\u001b[0m positions \u001b[39m=\u001b[39m s \u001b[39m/\u001b[39m (P_bar[assets]\u001b[39m.\u001b[39mvalues\u001b[39m.\u001b[39mreshape(\u001b[39m-\u001b[39m\u001b[39m1\u001b[39m, \u001b[39m1\u001b[39m))\n",
      "File \u001b[0;32m~/Documents/Stanford/Research/My papers/stat_arbs/cvx_ccv_stat_arb/cvx/stat_arb/ccp.py:233\u001b[0m, in \u001b[0;36m_StatArbFitter.fit\u001b[0;34m(self, prices, P_max, zero_inds, i, n_candidates, p_init, s_init, mu_init)\u001b[0m\n\u001b[1;32m    210\u001b[0m \u001b[39mdef\u001b[39;00m \u001b[39mfit\u001b[39m(\u001b[39mself\u001b[39m, prices, P_max\u001b[39m=\u001b[39m\u001b[39m10\u001b[39m,\\\n\u001b[1;32m    211\u001b[0m     zero_inds\u001b[39m=\u001b[39m\u001b[39mNone\u001b[39;00m, i\u001b[39m=\u001b[39m\u001b[39mNone\u001b[39;00m, n_candidates\u001b[39m=\u001b[39m\u001b[39mNone\u001b[39;00m,\\\n\u001b[1;32m    212\u001b[0m         p_init\u001b[39m=\u001b[39m\u001b[39mNone\u001b[39;00m, s_init\u001b[39m=\u001b[39m\u001b[39mNone\u001b[39;00m, mu_init\u001b[39m=\u001b[39m\u001b[39mNone\u001b[39;00m):\n\u001b[1;32m    213\u001b[0m \u001b[39m    \u001b[39m\u001b[39m\"\"\"\u001b[39;00m\n\u001b[1;32m    214\u001b[0m \u001b[39m    param prices: Txn, price matrix, pandas DataFrame\u001b[39;00m\n\u001b[1;32m    215\u001b[0m \u001b[39m    param P_max: scalar, max value of abs(s)@P_bar,\\\u001b[39;00m\n\u001b[0;32m   (...)\u001b[0m\n\u001b[1;32m    228\u001b[0m \u001b[39m        assets is the list of assets in the portfolio,\\\u001b[39;00m\n\u001b[1;32m    229\u001b[0m \u001b[39m    \"\"\"\u001b[39;00m\n\u001b[1;32m    232\u001b[0m     p, s, mu, assets \u001b[39m=\u001b[39m \\\n\u001b[0;32m--> 233\u001b[0m         \u001b[39mself\u001b[39;49m\u001b[39m.\u001b[39;49mget_stat_arb_port(prices\u001b[39m=\u001b[39;49mprices, P_max\u001b[39m=\u001b[39;49mP_max,\\\n\u001b[1;32m    234\u001b[0m             zero_inds\u001b[39m=\u001b[39;49mzero_inds, i\u001b[39m=\u001b[39;49mi, n_candidates\u001b[39m=\u001b[39;49mn_candidates,\\\n\u001b[1;32m    235\u001b[0m                 p_init\u001b[39m=\u001b[39;49mp_init, s_init\u001b[39m=\u001b[39;49ms_init, mu_init\u001b[39m=\u001b[39;49mmu_init)\n\u001b[1;32m    237\u001b[0m     \u001b[39mreturn\u001b[39;00m p, s, mu, assets\n",
      "File \u001b[0;32m~/Documents/Stanford/Research/My papers/stat_arbs/cvx_ccv_stat_arb/cvx/stat_arb/ccp.py:405\u001b[0m, in \u001b[0;36m_StatArbFitter.get_stat_arb_port\u001b[0;34m(self, prices, P_max, zero_inds, i, n_candidates, p_init, s_init, mu_init)\u001b[0m\n\u001b[1;32m    402\u001b[0m         \u001b[39mprint\u001b[39m(\u001b[39mf\u001b[39m\u001b[39m\"\u001b[39m\u001b[39m{\u001b[39;00mi\u001b[39m/\u001b[39mn_candidates\u001b[39m:\u001b[39;00m\u001b[39m.0%\u001b[39m\u001b[39m}\u001b[39;00m\u001b[39m\"\u001b[39m, end\u001b[39m=\u001b[39m\u001b[39m\"\u001b[39m\u001b[39m \u001b[39m\u001b[39m\"\u001b[39m)\n\u001b[1;32m    404\u001b[0m \u001b[39m# First pass: find a local optimum\u001b[39;00m\n\u001b[0;32m--> 405\u001b[0m p, s, mu \u001b[39m=\u001b[39m \u001b[39mself\u001b[39;49m\u001b[39m.\u001b[39;49mget_stat_arb_port_helper(prices\u001b[39m.\u001b[39;49mvalues, P_max\u001b[39m=\u001b[39;49mP_max,\\\n\u001b[1;32m    406\u001b[0m      zero_inds\u001b[39m=\u001b[39;49mzero_inds, p_init\u001b[39m=\u001b[39;49mp_init, s_init\u001b[39m=\u001b[39;49ms_init, mu_init\u001b[39m=\u001b[39;49mmu_init)\n\u001b[1;32m    408\u001b[0m \u001b[39m# Second pass: remove zero positions and P_max constraint\u001b[39;00m\n\u001b[1;32m    409\u001b[0m \u001b[39mif\u001b[39;00m zero_inds \u001b[39mis\u001b[39;00m \u001b[39mNone\u001b[39;00m \u001b[39mand\u001b[39;00m P_max \u001b[39mis\u001b[39;00m \u001b[39mnot\u001b[39;00m \u001b[39mNone\u001b[39;00m: \u001b[39m# P_max=None => second pass\u001b[39;00m\n",
      "File \u001b[0;32m~/Documents/Stanford/Research/My papers/stat_arbs/cvx_ccv_stat_arb/cvx/stat_arb/ccp.py:367\u001b[0m, in \u001b[0;36m_StatArbFitter.get_stat_arb_port_helper\u001b[0;34m(self, prices, P_max, zero_inds, p_init, s_init, mu_init)\u001b[0m\n\u001b[1;32m    365\u001b[0m i\u001b[39m=\u001b[39m\u001b[39m0\u001b[39m \u001b[39m# Iteration counter\u001b[39;00m\n\u001b[1;32m    366\u001b[0m \u001b[39mwhile\u001b[39;00m np\u001b[39m.\u001b[39mlinalg\u001b[39m.\u001b[39mnorm(obj_new\u001b[39m-\u001b[39mobj_old) \u001b[39m/\u001b[39m obj_old \u001b[39m>\u001b[39m \u001b[39m1e-3\u001b[39m:\n\u001b[0;32m--> 367\u001b[0m     pk, sk, muk, fail \u001b[39m=\u001b[39m \u001b[39mself\u001b[39;49m\u001b[39m.\u001b[39;49mget_next_iteration(pk, sk, muk, prices, prob, p, s, mu, grad_g, P_max\u001b[39m=\u001b[39;49mP_max)\n\u001b[1;32m    369\u001b[0m     obj_old \u001b[39m=\u001b[39m obj_new\n\u001b[1;32m    370\u001b[0m     \u001b[39mif\u001b[39;00m fail:\n",
      "File \u001b[0;32m~/Documents/Stanford/Research/My papers/stat_arbs/cvx_ccv_stat_arb/cvx/stat_arb/ccp.py:321\u001b[0m, in \u001b[0;36m_StatArbFitter.get_next_iteration\u001b[0;34m(self, pk, sk, muk, prices, prob, p, s, mu, grad_g, P_max)\u001b[0m\n\u001b[1;32m    308\u001b[0m \u001b[39mdef\u001b[39;00m \u001b[39mget_next_iteration\u001b[39m(\u001b[39mself\u001b[39m, pk, sk, muk, prices, prob, p, s, mu, grad_g, P_max\u001b[39m=\u001b[39m\u001b[39m10\u001b[39m):\n\u001b[1;32m    309\u001b[0m \u001b[39m    \u001b[39m\u001b[39m\"\"\"\u001b[39;00m\n\u001b[1;32m    310\u001b[0m \u001b[39m    param pk: Tx1, current portfolio value\u001b[39;00m\n\u001b[1;32m    311\u001b[0m \u001b[39m    param sk: nx1, current portfolio positions\u001b[39;00m\n\u001b[0;32m   (...)\u001b[0m\n\u001b[1;32m    318\u001b[0m \u001b[39m    param grad_g: Tx1, gradient of g, cvxpy parameter\u001b[39;00m\n\u001b[1;32m    319\u001b[0m \u001b[39m    \"\"\"\u001b[39;00m\n\u001b[0;32m--> 321\u001b[0m     grad_g\u001b[39m.\u001b[39;49mvalue \u001b[39m=\u001b[39m \u001b[39mself\u001b[39m\u001b[39m.\u001b[39mget_grad_g(pk)\n\u001b[1;32m    323\u001b[0m     \u001b[39mtry\u001b[39;00m:\n\u001b[1;32m    324\u001b[0m         prob\u001b[39m.\u001b[39msolve(solver\u001b[39m=\u001b[39m\u001b[39m\"\u001b[39m\u001b[39mMOSEK\u001b[39m\u001b[39m\"\u001b[39m, verbose\u001b[39m=\u001b[39m\u001b[39mFalse\u001b[39;00m)\n",
      "File \u001b[0;32m~/Library/Caches/pypoetry/virtualenvs/stats-arb-BRh2I0Cf-py3.9/lib/python3.9/site-packages/cvxpy/expressions/constants/parameter.py:87\u001b[0m, in \u001b[0;36mParameter.value\u001b[0;34m(self, val)\u001b[0m\n\u001b[1;32m     85\u001b[0m \u001b[39m@value\u001b[39m\u001b[39m.\u001b[39msetter\n\u001b[1;32m     86\u001b[0m \u001b[39mdef\u001b[39;00m \u001b[39mvalue\u001b[39m(\u001b[39mself\u001b[39m, val):\n\u001b[0;32m---> 87\u001b[0m     \u001b[39mself\u001b[39m\u001b[39m.\u001b[39m_value \u001b[39m=\u001b[39m \u001b[39mself\u001b[39;49m\u001b[39m.\u001b[39;49m_validate_value(val)\n",
      "File \u001b[0;32m~/Library/Caches/pypoetry/virtualenvs/stats-arb-BRh2I0Cf-py3.9/lib/python3.9/site-packages/cvxpy/expressions/leaf.py:439\u001b[0m, in \u001b[0;36mLeaf._validate_value\u001b[0;34m(self, val)\u001b[0m\n\u001b[1;32m    437\u001b[0m         \u001b[39melse\u001b[39;00m:\n\u001b[1;32m    438\u001b[0m             attr_str \u001b[39m=\u001b[39m ([k \u001b[39mfor\u001b[39;00m (k, v) \u001b[39min\u001b[39;00m \u001b[39mself\u001b[39m\u001b[39m.\u001b[39mattributes\u001b[39m.\u001b[39mitems() \u001b[39mif\u001b[39;00m v] \u001b[39m+\u001b[39m [\u001b[39m'\u001b[39m\u001b[39mreal\u001b[39m\u001b[39m'\u001b[39m])[\u001b[39m0\u001b[39m]\n\u001b[0;32m--> 439\u001b[0m         \u001b[39mraise\u001b[39;00m \u001b[39mValueError\u001b[39;00m(\n\u001b[1;32m    440\u001b[0m             \u001b[39m\"\u001b[39m\u001b[39m%s\u001b[39;00m\u001b[39m value must be \u001b[39m\u001b[39m%s\u001b[39;00m\u001b[39m.\u001b[39m\u001b[39m\"\u001b[39m \u001b[39m%\u001b[39m (\u001b[39mself\u001b[39m\u001b[39m.\u001b[39m\u001b[39m__class__\u001b[39m\u001b[39m.\u001b[39m\u001b[39m__name__\u001b[39m, attr_str)\n\u001b[1;32m    441\u001b[0m         )\n\u001b[1;32m    442\u001b[0m \u001b[39mreturn\u001b[39;00m val\n",
      "\u001b[0;31mValueError\u001b[0m: Parameter value must be real."
     ]
    }
   ],
   "source": [
    "all_portfolios = []\n",
    "\n",
    "cutoff = 1.05\n",
    "for sector in sector_stat_arbs.keys():\n",
    "    # Get stat arbs\n",
    "    all_stat_arbs = sector_stat_arbs[sector]\n",
    "    traded_stat_arbs, non_traded_stat_arbs, total_profit \\\n",
    "        = filter_stat_arbs(all_stat_arbs, prices_train, prices_val, prices_test,\\\n",
    "        cutoff=cutoff, SR_cutoff=3)\n",
    "\n",
    "    if len(traded_stat_arbs) > 0:\n",
    "        # Create portfolios\n",
    "        pos0 = traded_stat_arbs[0].get_positions(prices_test, cutoff=cutoff,\\\n",
    "            exit_last=True)\n",
    "        portfolio = build_portfolio(prices_test, positions=pos0)\n",
    "\n",
    "        for stat_arb in traded_stat_arbs[1:]:\n",
    "            pos_temp = stat_arb.get_positions(prices_test, cutoff=cutoff, exit_last=True)\n",
    "            portfolio += build_portfolio(prices_test, positions=pos_temp)\n",
    "        \n",
    "\n",
    "        \n",
    "        print(\"\\n\", sector)\n",
    "        print(f\"# assets: {portfolio.positions.shape[1]}/{len(sector_to_asset[sector])}\")\n",
    "        m = portfolio.performance_metrics()\n",
    "        print(\"profit: \", np.round(m.total_profit,1))\n",
    "        print(\"SR: \", np.round(m.sr_profit,1))\n",
    "\n",
    "        all_portfolios.append(portfolio)"
   ]
  },
  {
   "cell_type": "code",
   "execution_count": 24,
   "metadata": {},
   "outputs": [
    {
     "name": "stdout",
     "output_type": "stream",
     "text": [
      "\n",
      " All sectors\n",
      "# assets:  36\n",
      "profit:  42.8\n",
      "SR:  2.6\n"
     ]
    }
   ],
   "source": [
    "# All sectors combined\n",
    "portfolio = Portfolio()\n",
    "n_assets_traded = 0\n",
    "for p in all_portfolios:\n",
    "    portfolio += p\n",
    "    n_assets_traded += p.positions.shape[1]\n",
    "\n",
    "print(\"\\n\", \"All sectors\")\n",
    "print(\"# assets: \", n_assets_traded)\n",
    "m = portfolio.performance_metrics()\n",
    "print(\"profit: \", np.round(m.total_profit,1))\n",
    "print(\"SR: \", np.round(m.sr_profit,1))"
   ]
  },
  {
   "cell_type": "code",
   "execution_count": 28,
   "metadata": {},
   "outputs": [
    {
     "data": {
      "text/plain": [
       "(63, 34)"
      ]
     },
     "execution_count": 28,
     "metadata": {},
     "output_type": "execute_result"
    }
   ],
   "source": [
    "portfolio.positions.shape"
   ]
  }
 ],
 "metadata": {
  "kernelspec": {
   "display_name": "stat_arb",
   "language": "python",
   "name": "stat_arb"
  },
  "language_info": {
   "codemirror_mode": {
    "name": "ipython",
    "version": 3
   },
   "file_extension": ".py",
   "mimetype": "text/x-python",
   "name": "python",
   "nbconvert_exporter": "python",
   "pygments_lexer": "ipython3",
   "version": "3.9.12"
  },
  "orig_nbformat": 4
 },
 "nbformat": 4,
 "nbformat_minor": 2
}
