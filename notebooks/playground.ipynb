{
 "cells": [
  {
   "cell_type": "code",
   "execution_count": 2,
   "metadata": {},
   "outputs": [],
   "source": [
    "import numpy as np\n",
    "import pandas as pd\n",
    "import cvxpy as cp\n",
    "import matplotlib.pyplot as plt\n",
    "import tqdm\n",
    "from tqdm import tqdm\n",
    "import multiprocessing as mp\n",
    "import seaborn as sns\n",
    "from tqdm import trange\n",
    "\n",
    "from cvx.stat_arb.ccp import *\n",
    "from cvx.stat_arb.utils import *\n",
    "from cvx.stat_arb.backtest import *\n",
    "from cvx.stat_arb.metrics import *\n",
    "from cvx.stat_arb.portfolio import *\n",
    "\n",
    "sns.set()\n",
    "\n",
    "%load_ext autoreload\n",
    "%autoreload 2"
   ]
  },
  {
   "cell_type": "code",
   "execution_count": 3,
   "metadata": {},
   "outputs": [],
   "source": [
    "data = pd.read_csv(\"/Users/kasper/Documents/Stanford/Research/Data/SP500/asset_data_2000_to_2023.csv\")\n",
    "data = data.drop([\"TICKER\", \"PERMCO\"], axis=1)\n",
    "prices = pd.pivot_table(data, values='PRC', index='date', columns='PERMNO', fill_value=None)\n",
    "prices.index = pd.to_datetime(prices.index, format=\"%Y-%m-%d\")\n",
    "\n",
    "prices_train = prices.loc[\"2022-01-01\":\"2022-07-31\"].iloc[:,:]\n",
    "prices_val = prices.loc[\"2022-08-01\":\"2022-10-31\"].iloc[:,:]\n",
    "prices_test = prices.loc[\"2022-10-01\":\"2022-12-31\"].iloc[:,:]\n",
    "\n",
    "prices_train_val = pd.concat([prices_train, prices_val]) # For later use"
   ]
  },
  {
   "cell_type": "code",
   "execution_count": 43,
   "metadata": {},
   "outputs": [
    {
     "name": "stdout",
     "output_type": "stream",
     "text": [
      "1\n",
      "===============================================================================\n",
      "                                     CVXPY                                     \n",
      "                                     v1.3.1                                    \n",
      "===============================================================================\n",
      "(CVXPY) Apr 20 01:10:50 PM: Your problem has 34500 variables, 3 constraints, and 14400 parameters.\n",
      "(CVXPY) Apr 20 01:10:50 PM: It is compliant with the following grammars: DCP, DQCP\n",
      "(CVXPY) Apr 20 01:10:50 PM: CVXPY will first compile your problem; then, it will invoke a numerical solver to obtain a solution.\n",
      "-------------------------------------------------------------------------------\n",
      "                                  Compilation                                  \n",
      "-------------------------------------------------------------------------------\n",
      "(CVXPY) Apr 20 01:10:50 PM: Compiling problem (target solver=MOSEK).\n",
      "(CVXPY) Apr 20 01:10:50 PM: Reduction chain: FlipObjective -> Dcp2Cone -> CvxAttr2Constr -> ConeMatrixStuffing -> MOSEK\n",
      "(CVXPY) Apr 20 01:10:50 PM: Applying reduction FlipObjective\n",
      "(CVXPY) Apr 20 01:10:50 PM: Applying reduction Dcp2Cone\n",
      "(CVXPY) Apr 20 01:10:50 PM: Applying reduction CvxAttr2Constr\n",
      "(CVXPY) Apr 20 01:10:50 PM: Applying reduction ConeMatrixStuffing\n"
     ]
    },
    {
     "name": "stderr",
     "output_type": "stream",
     "text": [
      "/Users/kasper/Library/Caches/pypoetry/virtualenvs/stats-arb-BRh2I0Cf-py3.9/lib/python3.9/site-packages/cvxpy/reductions/solvers/solving_chain.py:209: UserWarning: Your problem has too many parameters for efficient DPP compilation. We suggest setting 'ignore_dpp = True'.\n",
      "  warnings.warn(\n"
     ]
    },
    {
     "name": "stdout",
     "output_type": "stream",
     "text": [
      "(CVXPY) Apr 20 01:11:04 PM: Applying reduction MOSEK\n",
      "(CVXPY) Apr 20 01:12:26 PM: Finished problem compilation (took 9.610e+01 seconds).\n",
      "(CVXPY) Apr 20 01:12:26 PM: (Subsequent compilations of this problem, using the same arguments, should take less time.)\n",
      "-------------------------------------------------------------------------------\n",
      "                                Numerical solver                               \n",
      "-------------------------------------------------------------------------------\n",
      "(CVXPY) Apr 20 01:12:26 PM: Invoking solver MOSEK  to obtain a solution.\n",
      "\n",
      "\n",
      "(CVXPY) Apr 20 01:12:27 PM: Problem\n",
      "(CVXPY) Apr 20 01:12:27 PM:   Name                   :                 \n",
      "(CVXPY) Apr 20 01:12:27 PM:   Objective sense        : maximize        \n",
      "(CVXPY) Apr 20 01:12:27 PM:   Type                   : LO (linear optimization problem)\n",
      "(CVXPY) Apr 20 01:12:27 PM:   Constraints            : 68900           \n",
      "(CVXPY) Apr 20 01:12:27 PM:   Affine conic cons.     : 0               \n",
      "(CVXPY) Apr 20 01:12:27 PM:   Disjunctive cons.      : 0               \n",
      "(CVXPY) Apr 20 01:12:27 PM:   Cones                  : 0               \n",
      "(CVXPY) Apr 20 01:12:27 PM:   Scalar variables       : 97800           \n",
      "(CVXPY) Apr 20 01:12:27 PM:   Matrix variables       : 0               \n",
      "(CVXPY) Apr 20 01:12:27 PM:   Integer variables      : 0               \n",
      "(CVXPY) Apr 20 01:12:27 PM: \n",
      "(CVXPY) Apr 20 01:12:27 PM: Optimizer started.\n",
      "(CVXPY) Apr 20 01:12:28 PM: Presolve started.\n",
      "(CVXPY) Apr 20 01:12:28 PM: Linear dependency checker started.\n",
      "(CVXPY) Apr 20 01:12:28 PM: Linear dependency checker terminated.\n",
      "(CVXPY) Apr 20 01:12:28 PM: Eliminator started.\n",
      "(CVXPY) Apr 20 01:12:28 PM: Freed constraints in eliminator : 0\n",
      "(CVXPY) Apr 20 01:12:28 PM: Eliminator terminated.\n",
      "(CVXPY) Apr 20 01:12:28 PM: Eliminator started.\n",
      "(CVXPY) Apr 20 01:12:28 PM: Freed constraints in eliminator : 0\n",
      "(CVXPY) Apr 20 01:12:28 PM: Eliminator terminated.\n",
      "(CVXPY) Apr 20 01:12:28 PM: Eliminator - tries                  : 2                 time                   : 0.00            \n",
      "(CVXPY) Apr 20 01:12:28 PM: Lin. dep.  - tries                  : 1                 time                   : 0.20            \n",
      "(CVXPY) Apr 20 01:12:28 PM: Lin. dep.  - number                 : 0               \n",
      "(CVXPY) Apr 20 01:12:28 PM: Presolve terminated. Time: 0.85    \n",
      "(CVXPY) Apr 20 01:12:32 PM: Problem\n",
      "(CVXPY) Apr 20 01:12:32 PM:   Name                   :                 \n",
      "(CVXPY) Apr 20 01:12:32 PM:   Objective sense        : maximize        \n",
      "(CVXPY) Apr 20 01:12:32 PM:   Type                   : LO (linear optimization problem)\n",
      "(CVXPY) Apr 20 01:12:32 PM:   Constraints            : 68900           \n",
      "(CVXPY) Apr 20 01:12:32 PM:   Affine conic cons.     : 0               \n",
      "(CVXPY) Apr 20 01:12:32 PM:   Disjunctive cons.      : 0               \n",
      "(CVXPY) Apr 20 01:12:32 PM:   Cones                  : 0               \n",
      "(CVXPY) Apr 20 01:12:32 PM:   Scalar variables       : 97800           \n",
      "(CVXPY) Apr 20 01:12:32 PM:   Matrix variables       : 0               \n",
      "(CVXPY) Apr 20 01:12:32 PM:   Integer variables      : 0               \n",
      "(CVXPY) Apr 20 01:12:32 PM: \n",
      "(CVXPY) Apr 20 01:12:32 PM: Optimizer  - threads                : 8               \n",
      "(CVXPY) Apr 20 01:12:32 PM: Optimizer  - solved problem         : the primal      \n",
      "(CVXPY) Apr 20 01:12:32 PM: Optimizer  - Constraints            : 68900\n",
      "(CVXPY) Apr 20 01:12:32 PM: Optimizer  - Cones                  : 0\n",
      "(CVXPY) Apr 20 01:12:32 PM: Optimizer  - Scalar variables       : 97801             conic                  : 0               \n",
      "(CVXPY) Apr 20 01:12:32 PM: Optimizer  - Semi-definite variables: 0                 scalarized             : 0               \n",
      "(CVXPY) Apr 20 01:12:32 PM: Factor     - setup time             : 2.58              dense det. time        : 0.00            \n",
      "(CVXPY) Apr 20 01:12:32 PM: Factor     - ML order time          : 1.22              GP order time          : 0.00            \n",
      "(CVXPY) Apr 20 01:12:32 PM: Factor     - nonzeros before factor : 7.03e+06          after factor           : 9.28e+06        \n",
      "(CVXPY) Apr 20 01:12:32 PM: Factor     - dense dim.             : 2                 flops                  : 2.36e+09        \n",
      "(CVXPY) Apr 20 01:12:32 PM: ITE PFEAS    DFEAS    GFEAS    PRSTATUS   POBJ              DOBJ              MU       TIME  \n",
      "(CVXPY) Apr 20 01:12:32 PM: 0   1.0e-01  1.9e+02  1.7e+03  0.00e+00   -1.677799146e+03  0.000000000e+00   1.7e+00  4.17  \n",
      "(CVXPY) Apr 20 01:12:32 PM: 1   9.5e-03  1.7e+01  1.5e+02  4.59e+01   -6.139925628e+00  0.000000000e+00   1.6e-01  4.36  \n",
      "(CVXPY) Apr 20 01:12:32 PM: 2   1.3e-03  2.3e+00  2.1e+01  5.25e+00   -1.683121058e-01  0.000000000e+00   2.1e-02  4.48  \n",
      "(CVXPY) Apr 20 01:12:32 PM: 3   1.2e-06  2.2e-03  2.0e-02  1.01e+00   -1.733607810e-04  0.000000000e+00   2.0e-05  4.60  \n",
      "(CVXPY) Apr 20 01:12:32 PM: 4   2.0e-10  3.6e-07  3.2e-06  1.00e+00   -2.791574630e-08  0.000000000e+00   3.3e-09  4.72  \n",
      "(CVXPY) Apr 20 01:12:32 PM: 5   3.1e-14  5.8e-11  5.1e-10  1.00e+00   -4.495250183e-12  0.000000000e+00   5.3e-13  4.90  \n",
      "(CVXPY) Apr 20 01:12:32 PM: Optimizer terminated. Time: 5.13    \n",
      "(CVXPY) Apr 20 01:12:32 PM: \n",
      "(CVXPY) Apr 20 01:12:32 PM: \n",
      "(CVXPY) Apr 20 01:12:32 PM: Interior-point solution summary\n",
      "(CVXPY) Apr 20 01:12:32 PM:   Problem status  : PRIMAL_AND_DUAL_FEASIBLE\n",
      "(CVXPY) Apr 20 01:12:32 PM:   Solution status : OPTIMAL\n",
      "(CVXPY) Apr 20 01:12:32 PM:   Primal.  obj: -4.4952501829e-12   nrm: 1e-12    Viol.  con: 7e-13    var: 0e+00  \n",
      "(CVXPY) Apr 20 01:12:32 PM:   Dual.    obj: 0.0000000000e+00    nrm: 8e-01    Viol.  con: 0e+00    var: 7e-13  \n",
      "-------------------------------------------------------------------------------\n",
      "                                    Summary                                    \n",
      "-------------------------------------------------------------------------------\n",
      "(CVXPY) Apr 20 01:12:32 PM: Problem status: optimal\n",
      "(CVXPY) Apr 20 01:12:32 PM: Optimal value: 0.000e+00\n",
      "(CVXPY) Apr 20 01:12:32 PM: Compilation took 9.610e+01 seconds\n",
      "(CVXPY) Apr 20 01:12:32 PM: Solver (including time spent in interface) took 6.475e+00 seconds\n",
      "2\n",
      "===============================================================================\n",
      "                                     CVXPY                                     \n",
      "                                     v1.3.1                                    \n",
      "===============================================================================\n",
      "(CVXPY) Apr 20 01:12:32 PM: Your problem has 34500 variables, 3 constraints, and 14400 parameters.\n",
      "(CVXPY) Apr 20 01:12:32 PM: It is compliant with the following grammars: DCP, DQCP\n",
      "(CVXPY) Apr 20 01:12:32 PM: CVXPY will first compile your problem; then, it will invoke a numerical solver to obtain a solution.\n",
      "-------------------------------------------------------------------------------\n",
      "                                  Compilation                                  \n",
      "-------------------------------------------------------------------------------\n",
      "(CVXPY) Apr 20 01:12:32 PM: Compiling problem (target solver=MOSEK).\n",
      "(CVXPY) Apr 20 01:12:32 PM: Reduction chain: EvalParams -> FlipObjective -> Dcp2Cone -> CvxAttr2Constr -> ConeMatrixStuffing -> MOSEK\n",
      "(CVXPY) Apr 20 01:12:32 PM: Applying reduction EvalParams\n",
      "(CVXPY) Apr 20 01:12:32 PM: Applying reduction FlipObjective\n",
      "(CVXPY) Apr 20 01:12:32 PM: Applying reduction Dcp2Cone\n",
      "(CVXPY) Apr 20 01:12:32 PM: Applying reduction CvxAttr2Constr\n",
      "(CVXPY) Apr 20 01:12:32 PM: Applying reduction ConeMatrixStuffing\n",
      "(CVXPY) Apr 20 01:12:34 PM: Applying reduction MOSEK\n",
      "(CVXPY) Apr 20 01:12:35 PM: Finished problem compilation (took 2.355e+00 seconds).\n",
      "-------------------------------------------------------------------------------\n",
      "                                Numerical solver                               \n",
      "-------------------------------------------------------------------------------\n",
      "(CVXPY) Apr 20 01:12:35 PM: Invoking solver MOSEK  to obtain a solution.\n",
      "\n",
      "\n",
      "(CVXPY) Apr 20 01:12:36 PM: Problem\n",
      "(CVXPY) Apr 20 01:12:36 PM:   Name                   :                 \n",
      "(CVXPY) Apr 20 01:12:36 PM:   Objective sense        : maximize        \n",
      "(CVXPY) Apr 20 01:12:36 PM:   Type                   : LO (linear optimization problem)\n",
      "(CVXPY) Apr 20 01:12:36 PM:   Constraints            : 68900           \n",
      "(CVXPY) Apr 20 01:12:36 PM:   Affine conic cons.     : 0               \n",
      "(CVXPY) Apr 20 01:12:36 PM:   Disjunctive cons.      : 0               \n",
      "(CVXPY) Apr 20 01:12:36 PM:   Cones                  : 0               \n",
      "(CVXPY) Apr 20 01:12:36 PM:   Scalar variables       : 97800           \n",
      "(CVXPY) Apr 20 01:12:36 PM:   Matrix variables       : 0               \n",
      "(CVXPY) Apr 20 01:12:36 PM:   Integer variables      : 0               \n",
      "(CVXPY) Apr 20 01:12:36 PM: \n",
      "(CVXPY) Apr 20 01:12:36 PM: Optimizer started.\n",
      "(CVXPY) Apr 20 01:12:36 PM: Presolve started.\n",
      "(CVXPY) Apr 20 01:12:36 PM: Linear dependency checker started.\n",
      "(CVXPY) Apr 20 01:12:36 PM: Linear dependency checker terminated.\n",
      "(CVXPY) Apr 20 01:12:36 PM: Eliminator started.\n",
      "(CVXPY) Apr 20 01:12:36 PM: Freed constraints in eliminator : 0\n",
      "(CVXPY) Apr 20 01:12:36 PM: Eliminator terminated.\n",
      "(CVXPY) Apr 20 01:12:36 PM: Eliminator started.\n",
      "(CVXPY) Apr 20 01:12:37 PM: Freed constraints in eliminator : 0\n",
      "(CVXPY) Apr 20 01:12:37 PM: Eliminator terminated.\n",
      "(CVXPY) Apr 20 01:12:37 PM: Eliminator - tries                  : 2                 time                   : 0.00            \n",
      "(CVXPY) Apr 20 01:12:37 PM: Lin. dep.  - tries                  : 1                 time                   : 0.08            \n",
      "(CVXPY) Apr 20 01:12:37 PM: Lin. dep.  - number                 : 0               \n",
      "(CVXPY) Apr 20 01:12:37 PM: Presolve terminated. Time: 0.58    \n",
      "(CVXPY) Apr 20 01:12:39 PM: Problem\n",
      "(CVXPY) Apr 20 01:12:39 PM:   Name                   :                 \n",
      "(CVXPY) Apr 20 01:12:39 PM:   Objective sense        : maximize        \n",
      "(CVXPY) Apr 20 01:12:39 PM:   Type                   : LO (linear optimization problem)\n",
      "(CVXPY) Apr 20 01:12:39 PM:   Constraints            : 68900           \n",
      "(CVXPY) Apr 20 01:12:39 PM:   Affine conic cons.     : 0               \n",
      "(CVXPY) Apr 20 01:12:39 PM:   Disjunctive cons.      : 0               \n",
      "(CVXPY) Apr 20 01:12:39 PM:   Cones                  : 0               \n",
      "(CVXPY) Apr 20 01:12:39 PM:   Scalar variables       : 97800           \n",
      "(CVXPY) Apr 20 01:12:39 PM:   Matrix variables       : 0               \n",
      "(CVXPY) Apr 20 01:12:39 PM:   Integer variables      : 0               \n",
      "(CVXPY) Apr 20 01:12:39 PM: \n",
      "(CVXPY) Apr 20 01:12:39 PM: Optimizer  - threads                : 8               \n",
      "(CVXPY) Apr 20 01:12:39 PM: Optimizer  - solved problem         : the primal      \n",
      "(CVXPY) Apr 20 01:12:39 PM: Optimizer  - Constraints            : 68900\n",
      "(CVXPY) Apr 20 01:12:39 PM: Optimizer  - Cones                  : 0\n",
      "(CVXPY) Apr 20 01:12:39 PM: Optimizer  - Scalar variables       : 97801             conic                  : 0               \n",
      "(CVXPY) Apr 20 01:12:39 PM: Optimizer  - Semi-definite variables: 0                 scalarized             : 0               \n",
      "(CVXPY) Apr 20 01:12:39 PM: Factor     - setup time             : 1.91              dense det. time        : 0.00            \n",
      "(CVXPY) Apr 20 01:12:39 PM: Factor     - ML order time          : 1.07              GP order time          : 0.00            \n",
      "(CVXPY) Apr 20 01:12:39 PM: Factor     - nonzeros before factor : 7.03e+06          after factor           : 9.28e+06        \n",
      "(CVXPY) Apr 20 01:12:39 PM: Factor     - dense dim.             : 2                 flops                  : 2.36e+09        \n",
      "(CVXPY) Apr 20 01:12:39 PM: ITE PFEAS    DFEAS    GFEAS    PRSTATUS   POBJ              DOBJ              MU       TIME  \n",
      "(CVXPY) Apr 20 01:12:39 PM: 0   1.1e+00  1.7e+02  1.6e+03  0.00e+00   -1.801869386e+03  -2.470525526e+02  1.7e+00  2.87  \n",
      "(CVXPY) Apr 20 01:12:39 PM: 1   9.1e-01  1.4e+02  1.3e+03  3.37e+01   -3.014880324e+02  -5.274829155e+01  1.4e+00  3.03  \n",
      "(CVXPY) Apr 20 01:12:39 PM: 2   6.0e-01  9.1e+01  8.4e+02  5.56e+00   -1.200249300e+02  -3.706176067e+01  9.2e-01  3.18  \n",
      "(CVXPY) Apr 20 01:12:39 PM: 3   2.1e-01  3.1e+01  2.9e+02  2.47e+00   -4.866147657e+01  -2.841094996e+01  3.2e-01  3.33  \n",
      "(CVXPY) Apr 20 01:12:39 PM: 4   8.8e-02  1.3e+01  1.2e+02  1.26e+00   -3.258719705e+01  -2.432813538e+01  1.4e-01  3.48  \n",
      "(CVXPY) Apr 20 01:12:40 PM: 5   4.6e-02  6.9e+00  6.4e+01  1.04e+00   -2.676765907e+01  -2.242888213e+01  7.0e-02  3.62  \n",
      "(CVXPY) Apr 20 01:12:40 PM: 6   2.5e-02  3.8e+00  3.5e+01  9.56e-01   -2.377534613e+01  -2.131993237e+01  3.8e-02  3.79  \n",
      "(CVXPY) Apr 20 01:12:40 PM: 7   1.6e-02  2.5e+00  2.3e+01  9.15e-01   -2.241810916e+01  -2.076820742e+01  2.5e-02  3.93  \n",
      "(CVXPY) Apr 20 01:12:40 PM: 8   9.2e-03  1.4e+00  1.3e+01  9.14e-01   -2.117462218e+01  -2.023023154e+01  1.4e-02  4.09  \n",
      "(CVXPY) Apr 20 01:12:40 PM: 9   6.4e-03  9.6e-01  9.0e+00  9.54e-01   -2.071275799e+01  -2.004569802e+01  9.8e-03  4.21  \n",
      "(CVXPY) Apr 20 01:12:40 PM: 10  4.2e-03  6.4e-01  5.9e+00  9.61e-01   -2.031791002e+01  -1.987353555e+01  6.5e-03  4.34  \n",
      "(CVXPY) Apr 20 01:12:40 PM: 11  3.5e-03  5.2e-01  4.8e+00  9.73e-01   -2.017683726e+01  -1.981139827e+01  5.3e-03  4.47  \n",
      "(CVXPY) Apr 20 01:12:41 PM: 12  1.9e-03  2.8e-01  2.6e+00  9.77e-01   -1.986926754e+01  -1.967098596e+01  2.8e-03  4.61  \n",
      "(CVXPY) Apr 20 01:12:41 PM: 13  7.9e-04  1.2e-01  1.1e+00  9.89e-01   -1.965996577e+01  -1.957457039e+01  1.2e-03  4.75  \n",
      "(CVXPY) Apr 20 01:12:41 PM: 14  6.1e-04  9.1e-02  8.5e-01  9.93e-01   -1.962150292e+01  -1.955577885e+01  9.3e-04  4.87  \n",
      "(CVXPY) Apr 20 01:12:41 PM: 15  2.2e-04  3.4e-02  3.1e-01  9.94e-01   -1.953851182e+01  -1.951416567e+01  3.4e-04  5.03  \n",
      "(CVXPY) Apr 20 01:12:41 PM: 16  9.3e-05  1.4e-02  1.3e-01  9.98e-01   -1.950975915e+01  -1.949955590e+01  1.4e-04  5.16  \n",
      "(CVXPY) Apr 20 01:12:41 PM: 17  1.1e-05  1.6e-03  1.5e-02  9.99e-01   -1.949075435e+01  -1.948955526e+01  1.6e-05  5.32  \n",
      "(CVXPY) Apr 20 01:12:41 PM: 18  5.0e-07  7.6e-05  7.1e-04  1.00e+00   -1.948799600e+01  -1.948793784e+01  7.7e-07  5.45  \n",
      "(CVXPY) Apr 20 01:12:42 PM: 19  1.7e-07  1.9e-05  1.7e-04  1.00e+00   -1.948787903e+01  -1.948786473e+01  1.9e-07  5.58  \n",
      "(CVXPY) Apr 20 01:12:42 PM: 20  7.9e-08  2.2e-07  2.3e-06  1.00e+00   -1.948784092e+01  -1.948784073e+01  2.2e-09  5.72  \n",
      "(CVXPY) Apr 20 01:12:42 PM: 21  2.7e-06  2.4e-09  3.4e-08  1.00e+00   -1.948784042e+01  -1.948784042e+01  2.5e-11  5.84  \n",
      "(CVXPY) Apr 20 01:12:42 PM: 22  2.7e-06  2.4e-09  3.4e-08  1.00e+00   -1.948784042e+01  -1.948784042e+01  2.5e-11  5.95  \n",
      "(CVXPY) Apr 20 01:12:42 PM: 23  3.1e-10  1.7e-10  8.3e-12  1.00e+00   -1.948784042e+01  -1.948784042e+01  2.8e-15  6.12  \n",
      "(CVXPY) Apr 20 01:12:42 PM: Optimizer terminated. Time: 6.25    \n",
      "(CVXPY) Apr 20 01:12:42 PM: \n",
      "(CVXPY) Apr 20 01:12:42 PM: \n",
      "(CVXPY) Apr 20 01:12:42 PM: Interior-point solution summary\n",
      "(CVXPY) Apr 20 01:12:42 PM:   Problem status  : PRIMAL_AND_DUAL_FEASIBLE\n",
      "(CVXPY) Apr 20 01:12:42 PM:   Solution status : OPTIMAL\n",
      "(CVXPY) Apr 20 01:12:42 PM:   Primal.  obj: -1.9487840416e+01   nrm: 1e+02    Viol.  con: 1e-08    var: 0e+00  \n",
      "(CVXPY) Apr 20 01:12:42 PM:   Dual.    obj: -1.9487840416e+01   nrm: 1e+01    Viol.  con: 0e+00    var: 1e-11  \n",
      "-------------------------------------------------------------------------------\n",
      "                                    Summary                                    \n",
      "-------------------------------------------------------------------------------\n",
      "(CVXPY) Apr 20 01:12:42 PM: Problem status: optimal\n",
      "(CVXPY) Apr 20 01:12:42 PM: Optimal value: 1.949e+01\n",
      "(CVXPY) Apr 20 01:12:42 PM: Compilation took 2.355e+00 seconds\n",
      "(CVXPY) Apr 20 01:12:42 PM: Solver (including time spent in interface) took 7.370e+00 seconds\n",
      "9.814471244812012\n"
     ]
    },
    {
     "data": {
      "text/plain": [
       "<cvx.stat_arb.ccp.State_vectorized at 0x7fd6aae197c0>"
      ]
     },
     "execution_count": 43,
     "metadata": {},
     "output_type": "execute_result"
    }
   ],
   "source": [
    "state = State_vectorized(prices_train, K=100, P_max=10, spread_max=1)\n",
    "state.reset()\n",
    "state.iterate()\n"
   ]
  },
  {
   "cell_type": "code",
   "execution_count": 42,
   "metadata": {},
   "outputs": [
    {
     "data": {
      "text/plain": [
       "array([[-1.29492045e-04,  1.73467562e-05, -7.24936725e-05, ...,\n",
       "        -1.35122531e-04,  4.40454507e-05, -7.12568634e-05],\n",
       "       [ 1.22103227e-05,  8.00768069e-05, -6.54639620e-05, ...,\n",
       "        -1.48811662e-07,  2.08377077e-05,  1.46980396e-04],\n",
       "       [ 1.76111029e-04, -2.10206907e-04,  4.67434278e-05, ...,\n",
       "         1.13253603e-04, -9.48055559e-05,  2.38868932e-07],\n",
       "       ...,\n",
       "       [-7.58726385e-05,  1.08489260e-04, -9.83591772e-05, ...,\n",
       "         6.37361109e-05, -4.94541466e-05,  1.30838301e-05],\n",
       "       [ 1.79013575e-04,  2.57388953e-05, -1.25080585e-04, ...,\n",
       "         7.15694050e-05,  8.49050512e-05,  2.87998200e-05],\n",
       "       [ 8.71380063e-05, -7.22394349e-06,  5.47041771e-05, ...,\n",
       "         8.67622211e-05,  2.16954055e-06, -1.97274945e-04]])"
      ]
     },
     "execution_count": 42,
     "metadata": {},
     "output_type": "execute_result"
    }
   ],
   "source": [
    "state.s.value"
   ]
  },
  {
   "cell_type": "markdown",
   "metadata": {},
   "source": [
    "# Experiment with solver speed"
   ]
  },
  {
   "cell_type": "markdown",
   "metadata": {},
   "source": [
    "### ECOS"
   ]
  },
  {
   "cell_type": "code",
   "execution_count": 6,
   "metadata": {},
   "outputs": [
    {
     "name": "stderr",
     "output_type": "stream",
     "text": [
      "100%|██████████| 100/100 [00:22<00:00,  4.47it/s]"
     ]
    },
    {
     "name": "stdout",
     "output_type": "stream",
     "text": [
      "0.09173866602999999\n"
     ]
    },
    {
     "name": "stderr",
     "output_type": "stream",
     "text": [
      "\n"
     ]
    }
   ],
   "source": [
    "np.random.seed(1)\n",
    "\n",
    "solve_times = []\n",
    "seeds = np.random.randint(0, 100000, 100)\n",
    "for i in trange(100):\n",
    "    prob = evaluate_solver(prices_train, P_max=10, spread_max=1, solver=\"ECOS\",\\\n",
    "         M=None)\n",
    "    solve_times.append(prob.solver_stats.solve_time)\n",
    "print(np.mean(solve_times))"
   ]
  },
  {
   "cell_type": "code",
   "execution_count": 7,
   "metadata": {},
   "outputs": [
    {
     "name": "stderr",
     "output_type": "stream",
     "text": [
      "100%|██████████| 100/100 [00:13<00:00,  7.30it/s]"
     ]
    },
    {
     "name": "stdout",
     "output_type": "stream",
     "text": [
      "0.041661339959999995\n"
     ]
    },
    {
     "name": "stderr",
     "output_type": "stream",
     "text": [
      "\n"
     ]
    }
   ],
   "source": [
    "np.random.seed(1)\n",
    "\n",
    "solve_times = []\n",
    "seeds = np.random.randint(0, 100000, 100)\n",
    "for i in trange(100):\n",
    "    prob = evaluate_solver(prices_train, P_max=10, spread_max=1, solver=\"ECOS\",\\\n",
    "         M=100)\n",
    "    solve_times.append(prob.solver_stats.solve_time)\n",
    "print(np.mean(solve_times))"
   ]
  },
  {
   "cell_type": "markdown",
   "metadata": {},
   "source": [
    "### MOSEK"
   ]
  },
  {
   "cell_type": "code",
   "execution_count": 8,
   "metadata": {},
   "outputs": [
    {
     "name": "stderr",
     "output_type": "stream",
     "text": [
      "100%|██████████| 100/100 [00:17<00:00,  5.74it/s]"
     ]
    },
    {
     "name": "stdout",
     "output_type": "stream",
     "text": [
      "0.051698272228240964\n"
     ]
    },
    {
     "name": "stderr",
     "output_type": "stream",
     "text": [
      "\n"
     ]
    }
   ],
   "source": [
    "np.random.seed(1)\n",
    "\n",
    "solve_times = []\n",
    "seeds = np.random.randint(0, 100000, 100)\n",
    "for i in trange(100):\n",
    "    prob = evaluate_solver(prices_train, P_max=10, spread_max=1, solver=\"MOSEK\",\\\n",
    "         M=None)\n",
    "    solve_times.append(prob.solver_stats.solve_time)\n",
    "print(np.mean(solve_times))"
   ]
  },
  {
   "cell_type": "code",
   "execution_count": 9,
   "metadata": {},
   "outputs": [
    {
     "name": "stderr",
     "output_type": "stream",
     "text": [
      "100%|██████████| 100/100 [00:11<00:00,  8.53it/s]"
     ]
    },
    {
     "name": "stdout",
     "output_type": "stream",
     "text": [
      "0.030637469291687012\n"
     ]
    },
    {
     "name": "stderr",
     "output_type": "stream",
     "text": [
      "\n"
     ]
    }
   ],
   "source": [
    "np.random.seed(1)\n",
    "\n",
    "solve_times = []\n",
    "seeds = np.random.randint(0, 100000, 100)\n",
    "for i in trange(100):\n",
    "    prob = evaluate_solver(prices_train, P_max=10, spread_max=1, solver=\"MOSEK\",\\\n",
    "         M=100)\n",
    "    solve_times.append(prob.solver_stats.solve_time)\n",
    "print(np.mean(solve_times))"
   ]
  },
  {
   "cell_type": "markdown",
   "metadata": {},
   "source": [
    "### GLPK"
   ]
  },
  {
   "cell_type": "code",
   "execution_count": 12,
   "metadata": {},
   "outputs": [
    {
     "name": "stderr",
     "output_type": "stream",
     "text": [
      "100%|██████████| 100/100 [00:47<00:00,  2.10it/s]\n"
     ]
    },
    {
     "ename": "TypeError",
     "evalue": "unsupported operand type(s) for +: 'NoneType' and 'NoneType'",
     "output_type": "error",
     "traceback": [
      "\u001b[0;31m---------------------------------------------------------------------------\u001b[0m",
      "\u001b[0;31mTypeError\u001b[0m                                 Traceback (most recent call last)",
      "Cell \u001b[0;32mIn[12], line 9\u001b[0m\n\u001b[1;32m      6\u001b[0m     prob \u001b[38;5;241m=\u001b[39m evaluate_solver(prices_train, P_max\u001b[38;5;241m=\u001b[39m\u001b[38;5;241m10\u001b[39m, spread_max\u001b[38;5;241m=\u001b[39m\u001b[38;5;241m1\u001b[39m, solver\u001b[38;5;241m=\u001b[39m\u001b[38;5;124m\"\u001b[39m\u001b[38;5;124mGLPK\u001b[39m\u001b[38;5;124m\"\u001b[39m,\\\n\u001b[1;32m      7\u001b[0m          M\u001b[38;5;241m=\u001b[39m\u001b[38;5;28;01mNone\u001b[39;00m)\n\u001b[1;32m      8\u001b[0m     solve_times\u001b[38;5;241m.\u001b[39mappend(prob\u001b[38;5;241m.\u001b[39msolver_stats\u001b[38;5;241m.\u001b[39msolve_time)\n\u001b[0;32m----> 9\u001b[0m \u001b[38;5;28mprint\u001b[39m(\u001b[43mnp\u001b[49m\u001b[38;5;241;43m.\u001b[39;49m\u001b[43mmean\u001b[49m\u001b[43m(\u001b[49m\u001b[43msolve_times\u001b[49m\u001b[43m)\u001b[49m)\n",
      "File \u001b[0;32m<__array_function__ internals>:200\u001b[0m, in \u001b[0;36mmean\u001b[0;34m(*args, **kwargs)\u001b[0m\n",
      "File \u001b[0;32m~/Library/Caches/pypoetry/virtualenvs/stats-arb-BRh2I0Cf-py3.9/lib/python3.9/site-packages/numpy/core/fromnumeric.py:3464\u001b[0m, in \u001b[0;36mmean\u001b[0;34m(a, axis, dtype, out, keepdims, where)\u001b[0m\n\u001b[1;32m   3461\u001b[0m     \u001b[39melse\u001b[39;00m:\n\u001b[1;32m   3462\u001b[0m         \u001b[39mreturn\u001b[39;00m mean(axis\u001b[39m=\u001b[39maxis, dtype\u001b[39m=\u001b[39mdtype, out\u001b[39m=\u001b[39mout, \u001b[39m*\u001b[39m\u001b[39m*\u001b[39mkwargs)\n\u001b[0;32m-> 3464\u001b[0m \u001b[39mreturn\u001b[39;00m _methods\u001b[39m.\u001b[39;49m_mean(a, axis\u001b[39m=\u001b[39;49maxis, dtype\u001b[39m=\u001b[39;49mdtype,\n\u001b[1;32m   3465\u001b[0m                       out\u001b[39m=\u001b[39;49mout, \u001b[39m*\u001b[39;49m\u001b[39m*\u001b[39;49mkwargs)\n",
      "File \u001b[0;32m~/Library/Caches/pypoetry/virtualenvs/stats-arb-BRh2I0Cf-py3.9/lib/python3.9/site-packages/numpy/core/_methods.py:181\u001b[0m, in \u001b[0;36m_mean\u001b[0;34m(a, axis, dtype, out, keepdims, where)\u001b[0m\n\u001b[1;32m    178\u001b[0m         dtype \u001b[39m=\u001b[39m mu\u001b[39m.\u001b[39mdtype(\u001b[39m'\u001b[39m\u001b[39mf4\u001b[39m\u001b[39m'\u001b[39m)\n\u001b[1;32m    179\u001b[0m         is_float16_result \u001b[39m=\u001b[39m \u001b[39mTrue\u001b[39;00m\n\u001b[0;32m--> 181\u001b[0m ret \u001b[39m=\u001b[39m umr_sum(arr, axis, dtype, out, keepdims, where\u001b[39m=\u001b[39;49mwhere)\n\u001b[1;32m    182\u001b[0m \u001b[39mif\u001b[39;00m \u001b[39misinstance\u001b[39m(ret, mu\u001b[39m.\u001b[39mndarray):\n\u001b[1;32m    183\u001b[0m     \u001b[39mwith\u001b[39;00m _no_nep50_warning():\n",
      "\u001b[0;31mTypeError\u001b[0m: unsupported operand type(s) for +: 'NoneType' and 'NoneType'"
     ]
    }
   ],
   "source": [
    "np.random.seed(1)\n",
    "import time\n",
    "solve_times = []\n",
    "seeds = np.random.randint(0, 100000, 100)\n",
    "for i in trange(100):\n",
    "    a = time.time()\n",
    "    prob = evaluate_solver(prices_train, P_max=10, spread_max=1, solver=\"GLPK\")\n",
    "    b = time.time()\n",
    "    solve_times.append(b-a)\n",
    "    # solve_times.append(prob.solver_stats.solve_time)\n",
    "print(np.mean(solve_times))"
   ]
  },
  {
   "cell_type": "markdown",
   "metadata": {},
   "source": [
    "### CLARABEL"
   ]
  },
  {
   "cell_type": "code",
   "execution_count": 10,
   "metadata": {},
   "outputs": [
    {
     "name": "stderr",
     "output_type": "stream",
     "text": [
      "100%|██████████| 100/100 [00:20<00:00,  4.91it/s]"
     ]
    },
    {
     "name": "stdout",
     "output_type": "stream",
     "text": [
      "0.07484680669999999\n"
     ]
    },
    {
     "name": "stderr",
     "output_type": "stream",
     "text": [
      "\n"
     ]
    }
   ],
   "source": [
    "np.random.seed(1)\n",
    "\n",
    "solve_times = []\n",
    "seeds = np.random.randint(0, 100000, 100)\n",
    "for i in trange(100):\n",
    "    prob = evaluate_solver(prices_train, P_max=10, spread_max=1, solver=\"CLARABEL\",\\\n",
    "         M=None)\n",
    "    solve_times.append(prob.solver_stats.solve_time)\n",
    "print(np.mean(solve_times))"
   ]
  },
  {
   "cell_type": "code",
   "execution_count": 11,
   "metadata": {},
   "outputs": [
    {
     "name": "stderr",
     "output_type": "stream",
     "text": [
      "100%|██████████| 100/100 [00:13<00:00,  7.54it/s]"
     ]
    },
    {
     "name": "stdout",
     "output_type": "stream",
     "text": [
      "0.04160965142999999\n"
     ]
    },
    {
     "name": "stderr",
     "output_type": "stream",
     "text": [
      "\n"
     ]
    }
   ],
   "source": [
    "np.random.seed(1)\n",
    "\n",
    "solve_times = []\n",
    "seeds = np.random.randint(0, 100000, 100)\n",
    "for i in trange(100):\n",
    "    prob = evaluate_solver(prices_train, P_max=10, spread_max=1, solver=\"CLARABEL\",\\\n",
    "         M=100)\n",
    "    solve_times.append(prob.solver_stats.solve_time)\n",
    "print(np.mean(solve_times))"
   ]
  }
 ],
 "metadata": {
  "kernelspec": {
   "display_name": "stat_arb",
   "language": "python",
   "name": "stat_arb"
  },
  "language_info": {
   "codemirror_mode": {
    "name": "ipython",
    "version": 3
   },
   "file_extension": ".py",
   "mimetype": "text/x-python",
   "name": "python",
   "nbconvert_exporter": "python",
   "pygments_lexer": "ipython3",
   "version": "3.9.12"
  },
  "orig_nbformat": 4
 },
 "nbformat": 4,
 "nbformat_minor": 2
}
